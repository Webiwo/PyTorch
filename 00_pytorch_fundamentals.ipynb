{
  "nbformat": 4,
  "nbformat_minor": 0,
  "metadata": {
    "colab": {
      "provenance": []
    },
    "kernelspec": {
      "name": "python3",
      "display_name": "Python 3"
    },
    "language_info": {
      "name": "python"
    }
  },
  "cells": [
    {
      "cell_type": "code",
      "execution_count": 38,
      "metadata": {
        "colab": {
          "base_uri": "https://localhost:8080/"
        },
        "id": "_9FVK8a_rrFz",
        "outputId": "45b55c41-d325-4b52-80d6-3a3511b2008c"
      },
      "outputs": [
        {
          "output_type": "stream",
          "name": "stdout",
          "text": [
            "2.6.0+cu124\n"
          ]
        }
      ],
      "source": [
        "import torch\n",
        "import random\n",
        "import pandas as pd\n",
        "import numpy as np\n",
        "import matplotlib.pyplot as plt\n",
        "print(torch.__version__)"
      ]
    },
    {
      "cell_type": "markdown",
      "source": [
        "# Tensors"
      ],
      "metadata": {
        "id": "PUfaTDUnr2J-"
      }
    },
    {
      "cell_type": "code",
      "source": [
        "# Create a random tensor of size (3, 4)\n",
        "random_tensor = torch.rand(size=(3,4))\n",
        "random_tensor, random_tensor.dtype"
      ],
      "metadata": {
        "colab": {
          "base_uri": "https://localhost:8080/"
        },
        "id": "Sg2KZmPDwLc2",
        "outputId": "4e700cfd-518d-49f2-cae5-0b73f437812b"
      },
      "execution_count": 2,
      "outputs": [
        {
          "output_type": "execute_result",
          "data": {
            "text/plain": [
              "(tensor([[0.0101, 0.8592, 0.8454, 0.3481],\n",
              "         [0.7420, 0.2798, 0.5717, 0.9256],\n",
              "         [0.6583, 0.9840, 0.0978, 0.2521]]),\n",
              " torch.float32)"
            ]
          },
          "metadata": {},
          "execution_count": 2
        }
      ]
    },
    {
      "cell_type": "code",
      "source": [
        "tensor_from_array = torch.tensor(np.array([\n",
        "     [1, 2, 3],\n",
        "     [4, 5, 6]\n",
        "     ]))\n",
        "tensor_from_array"
      ],
      "metadata": {
        "colab": {
          "base_uri": "https://localhost:8080/"
        },
        "id": "sYf3j15MwzL1",
        "outputId": "7f20d420-3cd4-418d-a056-1303713e79e6"
      },
      "execution_count": 3,
      "outputs": [
        {
          "output_type": "execute_result",
          "data": {
            "text/plain": [
              "tensor([[1, 2, 3],\n",
              "        [4, 5, 6]])"
            ]
          },
          "metadata": {},
          "execution_count": 3
        }
      ]
    },
    {
      "cell_type": "code",
      "source": [
        "torch.zeros([2, 4], dtype=torch.int32)"
      ],
      "metadata": {
        "colab": {
          "base_uri": "https://localhost:8080/"
        },
        "id": "SKRL3m77xTIN",
        "outputId": "c7bc5d0d-b1df-49dd-b086-9e2c68c4cd3d"
      },
      "execution_count": 4,
      "outputs": [
        {
          "output_type": "execute_result",
          "data": {
            "text/plain": [
              "tensor([[0, 0, 0, 0],\n",
              "        [0, 0, 0, 0]], dtype=torch.int32)"
            ]
          },
          "metadata": {},
          "execution_count": 4
        }
      ]
    },
    {
      "cell_type": "code",
      "source": [
        "float_32_tensor = torch.rand(size=(3,4))\n",
        "float_16_tensor = float_32_tensor.type(dtype=torch.float16)\n",
        "float_16_tensor"
      ],
      "metadata": {
        "colab": {
          "base_uri": "https://localhost:8080/"
        },
        "id": "LV0mv1SbCVes",
        "outputId": "dc7e417e-f7c6-46ec-bf94-b1976d791649"
      },
      "execution_count": 5,
      "outputs": [
        {
          "output_type": "execute_result",
          "data": {
            "text/plain": [
              "tensor([[0.1947, 0.4412, 0.9946, 0.0941],\n",
              "        [0.1399, 0.0295, 0.8550, 0.9980],\n",
              "        [0.9619, 0.6045, 0.1818, 0.2209]], dtype=torch.float16)"
            ]
          },
          "metadata": {},
          "execution_count": 5
        }
      ]
    },
    {
      "cell_type": "code",
      "source": [
        "evens_to_100 = torch.arange(start=2, end=101, step=2)\n",
        "evens_to_100"
      ],
      "metadata": {
        "colab": {
          "base_uri": "https://localhost:8080/"
        },
        "id": "HPBtiOwFxe8E",
        "outputId": "82a63d1a-4a30-42f5-af4a-0aa6a6fd2d05"
      },
      "execution_count": 6,
      "outputs": [
        {
          "output_type": "execute_result",
          "data": {
            "text/plain": [
              "tensor([  2,   4,   6,   8,  10,  12,  14,  16,  18,  20,  22,  24,  26,  28,\n",
              "         30,  32,  34,  36,  38,  40,  42,  44,  46,  48,  50,  52,  54,  56,\n",
              "         58,  60,  62,  64,  66,  68,  70,  72,  74,  76,  78,  80,  82,  84,\n",
              "         86,  88,  90,  92,  94,  96,  98, 100])"
            ]
          },
          "metadata": {},
          "execution_count": 6
        }
      ]
    },
    {
      "cell_type": "code",
      "source": [
        "torch.ones_like(input=evens_to_100)"
      ],
      "metadata": {
        "colab": {
          "base_uri": "https://localhost:8080/"
        },
        "id": "1e4kE78p_vYD",
        "outputId": "00c6e97d-9df7-4d9b-96f6-5c6ca449b6bd"
      },
      "execution_count": 7,
      "outputs": [
        {
          "output_type": "execute_result",
          "data": {
            "text/plain": [
              "tensor([1, 1, 1, 1, 1, 1, 1, 1, 1, 1, 1, 1, 1, 1, 1, 1, 1, 1, 1, 1, 1, 1, 1, 1,\n",
              "        1, 1, 1, 1, 1, 1, 1, 1, 1, 1, 1, 1, 1, 1, 1, 1, 1, 1, 1, 1, 1, 1, 1, 1,\n",
              "        1, 1])"
            ]
          },
          "metadata": {},
          "execution_count": 7
        }
      ]
    },
    {
      "cell_type": "code",
      "source": [
        "tensor_transposed = torch.transpose(tensor_from_array,-2, 1)\n",
        "tensor_transposed, tensor_from_array.T"
      ],
      "metadata": {
        "colab": {
          "base_uri": "https://localhost:8080/"
        },
        "id": "PSUoOdHEAi2P",
        "outputId": "4a11b98d-333a-4819-e548-099386cb8ca1"
      },
      "execution_count": 8,
      "outputs": [
        {
          "output_type": "execute_result",
          "data": {
            "text/plain": [
              "(tensor([[1, 4],\n",
              "         [2, 5],\n",
              "         [3, 6]]),\n",
              " tensor([[1, 4],\n",
              "         [2, 5],\n",
              "         [3, 6]]))"
            ]
          },
          "metadata": {},
          "execution_count": 8
        }
      ]
    },
    {
      "cell_type": "code",
      "source": [
        "torch.matmul(tensor_from_array, tensor_transposed)\n",
        "# tensor_from_array @ tensor_transposed"
      ],
      "metadata": {
        "colab": {
          "base_uri": "https://localhost:8080/"
        },
        "id": "IpymukGIGe8C",
        "outputId": "9b8c0544-22ba-40b3-b43c-c05d67a944fd"
      },
      "execution_count": 9,
      "outputs": [
        {
          "output_type": "execute_result",
          "data": {
            "text/plain": [
              "tensor([[14, 32],\n",
              "        [32, 77]])"
            ]
          },
          "metadata": {},
          "execution_count": 9
        }
      ]
    },
    {
      "cell_type": "code",
      "source": [
        "evens_to_100.min(), evens_to_100.max(), torch.mean(evens_to_100.type(torch.float32)), evens_to_100.sum()"
      ],
      "metadata": {
        "colab": {
          "base_uri": "https://localhost:8080/"
        },
        "id": "KQ8sESYlHGhH",
        "outputId": "dd920b00-63ea-4e86-c533-b166d7220bfc"
      },
      "execution_count": 10,
      "outputs": [
        {
          "output_type": "execute_result",
          "data": {
            "text/plain": [
              "(tensor(2), tensor(100), tensor(51.), tensor(2550))"
            ]
          },
          "metadata": {},
          "execution_count": 10
        }
      ]
    },
    {
      "cell_type": "code",
      "source": [
        "tensor = torch.arange(10, 100, 10)\n",
        "tensor, tensor.argmin(), tensor.argmax()"
      ],
      "metadata": {
        "colab": {
          "base_uri": "https://localhost:8080/"
        },
        "id": "NAeJSfXJaSZq",
        "outputId": "f97c4250-fe26-4d15-c989-58af8f46a790"
      },
      "execution_count": 11,
      "outputs": [
        {
          "output_type": "execute_result",
          "data": {
            "text/plain": [
              "(tensor([10, 20, 30, 40, 50, 60, 70, 80, 90]), tensor(0), tensor(8))"
            ]
          },
          "metadata": {},
          "execution_count": 11
        }
      ]
    },
    {
      "cell_type": "markdown",
      "source": [
        "# Reshaping, stacking, squeezing and unsqueezing\n",
        "\n",
        "* ##### torch.reshape(input, shape)\t - Reshapes input to shape (if compatible), can also use torch.Tensor.reshape().\n",
        "* ##### Tensor.view(shape)\t- Returns a view of the original tensor in a different shape but shares the same data as the original tensor.\n",
        "* ##### torch.stack(tensors, dim=0)\t - Concatenates a sequence of tensors along a new dimension (dim), all tensors must be same size.\n",
        "* ##### torch.squeeze(input)\t- Squeezes input to remove all the dimenions with value 1.\n",
        "* ##### torch.unsqueeze(input, dim)\t - Returns input with a dimension value of 1 added at dim.\n",
        "* ##### torch.permute(input, dims)\t- Returns a view of the original input with its dimensions permuted (rearranged) to dims."
      ],
      "metadata": {
        "id": "uDM9xzELfODg"
      }
    },
    {
      "cell_type": "code",
      "source": [
        "tensor.shape"
      ],
      "metadata": {
        "colab": {
          "base_uri": "https://localhost:8080/"
        },
        "id": "ho1bxkcrh8Vv",
        "outputId": "40f85ea0-6022-4e70-a889-83e6416dc0e4"
      },
      "execution_count": 12,
      "outputs": [
        {
          "output_type": "execute_result",
          "data": {
            "text/plain": [
              "torch.Size([9])"
            ]
          },
          "metadata": {},
          "execution_count": 12
        }
      ]
    },
    {
      "cell_type": "code",
      "source": [
        "t_reshaped = tensor.reshape(3,3)\n",
        "t_reshaped"
      ],
      "metadata": {
        "colab": {
          "base_uri": "https://localhost:8080/"
        },
        "id": "QajLF_MGi8ar",
        "outputId": "b4bb7384-d975-4cf7-d12e-2698ab701d9e"
      },
      "execution_count": 13,
      "outputs": [
        {
          "output_type": "execute_result",
          "data": {
            "text/plain": [
              "tensor([[10, 20, 30],\n",
              "        [40, 50, 60],\n",
              "        [70, 80, 90]])"
            ]
          },
          "metadata": {},
          "execution_count": 13
        }
      ]
    },
    {
      "cell_type": "code",
      "source": [
        "t_view = tensor.view(3,3)\n",
        "t_view[:,0] = 0\n",
        "tensor, t_view  # view of tensor shares the same memory as the original input"
      ],
      "metadata": {
        "colab": {
          "base_uri": "https://localhost:8080/"
        },
        "id": "CxTQ_SUrjLI6",
        "outputId": "d8557ca1-d13a-47c2-8173-b1a5c5726cbf"
      },
      "execution_count": 14,
      "outputs": [
        {
          "output_type": "execute_result",
          "data": {
            "text/plain": [
              "(tensor([ 0, 20, 30,  0, 50, 60,  0, 80, 90]),\n",
              " tensor([[ 0, 20, 30],\n",
              "         [ 0, 50, 60],\n",
              "         [ 0, 80, 90]]))"
            ]
          },
          "metadata": {},
          "execution_count": 14
        }
      ]
    },
    {
      "cell_type": "code",
      "source": [
        "torch.stack([tensor, tensor, tensor], dim=0)   # torch.vstack"
      ],
      "metadata": {
        "colab": {
          "base_uri": "https://localhost:8080/"
        },
        "id": "No8-oim3jhj_",
        "outputId": "c333b9b5-4a89-4da4-89a5-08470234878c"
      },
      "execution_count": 15,
      "outputs": [
        {
          "output_type": "execute_result",
          "data": {
            "text/plain": [
              "tensor([[ 0, 20, 30,  0, 50, 60,  0, 80, 90],\n",
              "        [ 0, 20, 30,  0, 50, 60,  0, 80, 90],\n",
              "        [ 0, 20, 30,  0, 50, 60,  0, 80, 90]])"
            ]
          },
          "metadata": {},
          "execution_count": 15
        }
      ]
    },
    {
      "cell_type": "code",
      "source": [
        "torch.stack([tensor, tensor, tensor], dim=1) # torch.hstack"
      ],
      "metadata": {
        "colab": {
          "base_uri": "https://localhost:8080/"
        },
        "id": "NrWxUvkBkvUz",
        "outputId": "f414603b-e399-44c1-804e-6a3c5146ab4a"
      },
      "execution_count": 16,
      "outputs": [
        {
          "output_type": "execute_result",
          "data": {
            "text/plain": [
              "tensor([[ 0,  0,  0],\n",
              "        [20, 20, 20],\n",
              "        [30, 30, 30],\n",
              "        [ 0,  0,  0],\n",
              "        [50, 50, 50],\n",
              "        [60, 60, 60],\n",
              "        [ 0,  0,  0],\n",
              "        [80, 80, 80],\n",
              "        [90, 90, 90]])"
            ]
          },
          "metadata": {},
          "execution_count": 16
        }
      ]
    },
    {
      "cell_type": "code",
      "source": [
        "torch.vstack([tensor, tensor, tensor])"
      ],
      "metadata": {
        "colab": {
          "base_uri": "https://localhost:8080/"
        },
        "id": "1WwdbGY6lA_0",
        "outputId": "f7165a09-c026-4c90-e7d4-176f65dceed7"
      },
      "execution_count": 17,
      "outputs": [
        {
          "output_type": "execute_result",
          "data": {
            "text/plain": [
              "tensor([[ 0, 20, 30,  0, 50, 60,  0, 80, 90],\n",
              "        [ 0, 20, 30,  0, 50, 60,  0, 80, 90],\n",
              "        [ 0, 20, 30,  0, 50, 60,  0, 80, 90]])"
            ]
          },
          "metadata": {},
          "execution_count": 17
        }
      ]
    },
    {
      "cell_type": "code",
      "source": [
        "x = torch.zeros(2, 1, 2, 1, 2)\n",
        "x, x.size()"
      ],
      "metadata": {
        "colab": {
          "base_uri": "https://localhost:8080/"
        },
        "id": "P3cl-Pptlgdd",
        "outputId": "e94a7f7e-4706-4618-949a-bdad6856ec23"
      },
      "execution_count": 18,
      "outputs": [
        {
          "output_type": "execute_result",
          "data": {
            "text/plain": [
              "(tensor([[[[[0., 0.]],\n",
              " \n",
              "           [[0., 0.]]]],\n",
              " \n",
              " \n",
              " \n",
              "         [[[[0., 0.]],\n",
              " \n",
              "           [[0., 0.]]]]]),\n",
              " torch.Size([2, 1, 2, 1, 2]))"
            ]
          },
          "metadata": {},
          "execution_count": 18
        }
      ]
    },
    {
      "cell_type": "code",
      "source": [
        "y = torch.squeeze(x, 1)\n",
        "y, y.size()"
      ],
      "metadata": {
        "colab": {
          "base_uri": "https://localhost:8080/"
        },
        "id": "CLelNs9fl5Eb",
        "outputId": "f58b51c7-6871-4f02-ba79-7454a5ed99a5"
      },
      "execution_count": 19,
      "outputs": [
        {
          "output_type": "execute_result",
          "data": {
            "text/plain": [
              "(tensor([[[[0., 0.]],\n",
              " \n",
              "          [[0., 0.]]],\n",
              " \n",
              " \n",
              "         [[[0., 0.]],\n",
              " \n",
              "          [[0., 0.]]]]),\n",
              " torch.Size([2, 2, 1, 2]))"
            ]
          },
          "metadata": {},
          "execution_count": 19
        }
      ]
    },
    {
      "cell_type": "code",
      "source": [
        "y = torch.squeeze(x, (1, 2, 3))\n",
        "y, y.size()"
      ],
      "metadata": {
        "colab": {
          "base_uri": "https://localhost:8080/"
        },
        "id": "47CaMcO-mFrB",
        "outputId": "7b70b56b-e195-479f-b9ed-829534f82fef"
      },
      "execution_count": 20,
      "outputs": [
        {
          "output_type": "execute_result",
          "data": {
            "text/plain": [
              "(tensor([[[0., 0.],\n",
              "          [0., 0.]],\n",
              " \n",
              "         [[0., 0.],\n",
              "          [0., 0.]]]),\n",
              " torch.Size([2, 2, 2]))"
            ]
          },
          "metadata": {},
          "execution_count": 20
        }
      ]
    },
    {
      "cell_type": "code",
      "source": [
        "y = torch.squeeze(x)\n",
        "y, y.size()"
      ],
      "metadata": {
        "colab": {
          "base_uri": "https://localhost:8080/"
        },
        "id": "5SheDDP7mPaX",
        "outputId": "e29d8b06-08f1-458e-bbfb-17166507e9e3"
      },
      "execution_count": 21,
      "outputs": [
        {
          "output_type": "execute_result",
          "data": {
            "text/plain": [
              "(tensor([[[0., 0.],\n",
              "          [0., 0.]],\n",
              " \n",
              "         [[0., 0.],\n",
              "          [0., 0.]]]),\n",
              " torch.Size([2, 2, 2]))"
            ]
          },
          "metadata": {},
          "execution_count": 21
        }
      ]
    },
    {
      "cell_type": "code",
      "source": [
        "x = torch.tensor([1, 2, 3, 4])\n",
        "x"
      ],
      "metadata": {
        "colab": {
          "base_uri": "https://localhost:8080/"
        },
        "id": "Uk0iNqd_me2n",
        "outputId": "402cfd6e-97f0-4dfb-f697-9150cdfc244a"
      },
      "execution_count": 22,
      "outputs": [
        {
          "output_type": "execute_result",
          "data": {
            "text/plain": [
              "tensor([1, 2, 3, 4])"
            ]
          },
          "metadata": {},
          "execution_count": 22
        }
      ]
    },
    {
      "cell_type": "code",
      "source": [
        "torch.unsqueeze(x, 0)"
      ],
      "metadata": {
        "colab": {
          "base_uri": "https://localhost:8080/"
        },
        "id": "Lqcp3Xhmm-6p",
        "outputId": "381d97a4-f3d1-48f6-dfb6-846690916929"
      },
      "execution_count": 23,
      "outputs": [
        {
          "output_type": "execute_result",
          "data": {
            "text/plain": [
              "tensor([[1, 2, 3, 4]])"
            ]
          },
          "metadata": {},
          "execution_count": 23
        }
      ]
    },
    {
      "cell_type": "code",
      "source": [
        "torch.unsqueeze(x, 1)"
      ],
      "metadata": {
        "colab": {
          "base_uri": "https://localhost:8080/"
        },
        "id": "Xwk-3WMrnMlA",
        "outputId": "3156cb0d-a329-4a31-c86e-5a61c56d5047"
      },
      "execution_count": 24,
      "outputs": [
        {
          "output_type": "execute_result",
          "data": {
            "text/plain": [
              "tensor([[1],\n",
              "        [2],\n",
              "        [3],\n",
              "        [4]])"
            ]
          },
          "metadata": {},
          "execution_count": 24
        }
      ]
    },
    {
      "cell_type": "code",
      "source": [
        "z = torch.randint(low=0, high=50, size=(2, 3, 5))\n",
        "z, z.size()"
      ],
      "metadata": {
        "colab": {
          "base_uri": "https://localhost:8080/"
        },
        "id": "af7LQJvJnTFs",
        "outputId": "9edf39f5-6c11-496a-eaf0-9c24a46b6056"
      },
      "execution_count": 25,
      "outputs": [
        {
          "output_type": "execute_result",
          "data": {
            "text/plain": [
              "(tensor([[[37, 14, 42, 15,  7],\n",
              "          [14, 44, 17, 47, 26],\n",
              "          [21, 47,  6,  1, 20]],\n",
              " \n",
              "         [[23, 29, 46, 21, 25],\n",
              "          [22, 31, 49, 10, 29],\n",
              "          [12, 47, 34, 46,  6]]]),\n",
              " torch.Size([2, 3, 5]))"
            ]
          },
          "metadata": {},
          "execution_count": 25
        }
      ]
    },
    {
      "cell_type": "code",
      "source": [
        "z_permuted = torch.permute(z, (2, 0, 1))\n",
        "z_permuted, z_permuted.size()"
      ],
      "metadata": {
        "colab": {
          "base_uri": "https://localhost:8080/"
        },
        "id": "klITNH5jn4Lg",
        "outputId": "5fb1d900-e86e-4605-c0c3-8f445c2eee46"
      },
      "execution_count": 26,
      "outputs": [
        {
          "output_type": "execute_result",
          "data": {
            "text/plain": [
              "(tensor([[[37, 14, 21],\n",
              "          [23, 22, 12]],\n",
              " \n",
              "         [[14, 44, 47],\n",
              "          [29, 31, 47]],\n",
              " \n",
              "         [[42, 17,  6],\n",
              "          [46, 49, 34]],\n",
              " \n",
              "         [[15, 47,  1],\n",
              "          [21, 10, 46]],\n",
              " \n",
              "         [[ 7, 26, 20],\n",
              "          [25, 29,  6]]]),\n",
              " torch.Size([5, 2, 3]))"
            ]
          },
          "metadata": {},
          "execution_count": 26
        }
      ]
    },
    {
      "cell_type": "code",
      "source": [
        "z[0,0,0] = 100\n",
        "z, z_permuted   # shares the same memory as the original input"
      ],
      "metadata": {
        "colab": {
          "base_uri": "https://localhost:8080/"
        },
        "id": "t_qaZF-rog7n",
        "outputId": "6264c5e6-aa09-422c-8c18-68a7453de63c"
      },
      "execution_count": 27,
      "outputs": [
        {
          "output_type": "execute_result",
          "data": {
            "text/plain": [
              "(tensor([[[100,  14,  42,  15,   7],\n",
              "          [ 14,  44,  17,  47,  26],\n",
              "          [ 21,  47,   6,   1,  20]],\n",
              " \n",
              "         [[ 23,  29,  46,  21,  25],\n",
              "          [ 22,  31,  49,  10,  29],\n",
              "          [ 12,  47,  34,  46,   6]]]),\n",
              " tensor([[[100,  14,  21],\n",
              "          [ 23,  22,  12]],\n",
              " \n",
              "         [[ 14,  44,  47],\n",
              "          [ 29,  31,  47]],\n",
              " \n",
              "         [[ 42,  17,   6],\n",
              "          [ 46,  49,  34]],\n",
              " \n",
              "         [[ 15,  47,   1],\n",
              "          [ 21,  10,  46]],\n",
              " \n",
              "         [[  7,  26,  20],\n",
              "          [ 25,  29,   6]]]))"
            ]
          },
          "metadata": {},
          "execution_count": 27
        }
      ]
    },
    {
      "cell_type": "code",
      "source": [
        "# Tensor from numpy array\n",
        "a = np.arange(1, 8)\n",
        "t = torch.from_numpy(a).type(torch.float32)\n",
        "a, t"
      ],
      "metadata": {
        "colab": {
          "base_uri": "https://localhost:8080/"
        },
        "id": "lDwU7lGwpId9",
        "outputId": "c1effb81-f003-46c8-9763-40c754af6cae"
      },
      "execution_count": 35,
      "outputs": [
        {
          "output_type": "execute_result",
          "data": {
            "text/plain": [
              "(array([1, 2, 3, 4, 5, 6, 7]), tensor([1., 2., 3., 4., 5., 6., 7.]))"
            ]
          },
          "metadata": {},
          "execution_count": 35
        }
      ]
    },
    {
      "cell_type": "code",
      "source": [
        "a1 = t.numpy()\n",
        "a1"
      ],
      "metadata": {
        "colab": {
          "base_uri": "https://localhost:8080/"
        },
        "id": "7aWtqo5L9YiR",
        "outputId": "b7b943af-c2e1-49b0-f923-80aae846148c"
      },
      "execution_count": 37,
      "outputs": [
        {
          "output_type": "execute_result",
          "data": {
            "text/plain": [
              "array([1., 2., 3., 4., 5., 6., 7.], dtype=float32)"
            ]
          },
          "metadata": {},
          "execution_count": 37
        }
      ]
    },
    {
      "cell_type": "code",
      "source": [
        "# Set the random seed\n",
        "RANDOM_SEED=42\n",
        "torch.random.manual_seed(RANDOM_SEED)\n",
        "tn = torch.randn(2, 3)\n",
        "tn"
      ],
      "metadata": {
        "colab": {
          "base_uri": "https://localhost:8080/"
        },
        "id": "Ma-4SjrF-W7j",
        "outputId": "06b7a516-746c-4f1f-a5ac-9560cfbbf20b"
      },
      "execution_count": 42,
      "outputs": [
        {
          "output_type": "execute_result",
          "data": {
            "text/plain": [
              "tensor([[ 0.3367,  0.1288,  0.2345],\n",
              "        [ 0.2303, -1.1229, -0.1863]])"
            ]
          },
          "metadata": {},
          "execution_count": 42
        }
      ]
    },
    {
      "cell_type": "code",
      "source": [
        "# Check for GPU access with PyTorch\n",
        "torch.cuda.is_available()\n",
        "device=\"cuda\" if torch.cuda.is_available() else \"cpu\"\n",
        "device"
      ],
      "metadata": {
        "colab": {
          "base_uri": "https://localhost:8080/",
          "height": 35
        },
        "id": "iSYdyMepBb7Q",
        "outputId": "e1dc4d00-b1c7-4ce0-a753-f77fb689d6f6"
      },
      "execution_count": 45,
      "outputs": [
        {
          "output_type": "execute_result",
          "data": {
            "text/plain": [
              "'cpu'"
            ],
            "application/vnd.google.colaboratory.intrinsic+json": {
              "type": "string"
            }
          },
          "metadata": {},
          "execution_count": 45
        }
      ]
    },
    {
      "cell_type": "code",
      "source": [],
      "metadata": {
        "id": "4U-uMdKCDb3X"
      },
      "execution_count": null,
      "outputs": []
    }
  ]
}