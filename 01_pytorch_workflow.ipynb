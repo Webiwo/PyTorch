{
  "nbformat": 4,
  "nbformat_minor": 0,
  "metadata": {
    "colab": {
      "provenance": []
    },
    "kernelspec": {
      "name": "python3",
      "display_name": "Python 3"
    },
    "language_info": {
      "name": "python"
    }
  },
  "cells": [
    {
      "cell_type": "code",
      "execution_count": 1,
      "metadata": {
        "id": "CEfzy6kWIdik"
      },
      "outputs": [],
      "source": [
        "import torch\n",
        "from torch import nn  # nn contains all of PyTorch's building blocks for neural networks\n",
        "import matplotlib.pyplot as plt"
      ]
    },
    {
      "cell_type": "markdown",
      "source": [
        "# Data (preparing and loading)"
      ],
      "metadata": {
        "id": "6GMgfGkmJcPi"
      }
    },
    {
      "cell_type": "code",
      "source": [
        "X = torch.arange(0, 1, 0.02).unsqueeze(dim=1)\n",
        "\n",
        "weight = 0.7\n",
        "bias = 0.3\n",
        "\n",
        "y = weight * X + bias\n",
        "\n",
        "X[:5], y[:5]"
      ],
      "metadata": {
        "colab": {
          "base_uri": "https://localhost:8080/"
        },
        "id": "Vm0Z6DtBJj4f",
        "outputId": "13c4ac4f-b76d-49c5-ce1b-aa20aea63a55"
      },
      "execution_count": 2,
      "outputs": [
        {
          "output_type": "execute_result",
          "data": {
            "text/plain": [
              "(tensor([[0.0000],\n",
              "         [0.0200],\n",
              "         [0.0400],\n",
              "         [0.0600],\n",
              "         [0.0800]]),\n",
              " tensor([[0.3000],\n",
              "         [0.3140],\n",
              "         [0.3280],\n",
              "         [0.3420],\n",
              "         [0.3560]]))"
            ]
          },
          "metadata": {},
          "execution_count": 2
        }
      ]
    },
    {
      "cell_type": "markdown",
      "source": [
        "### Split data into training and test sets"
      ],
      "metadata": {
        "id": "J-d-nMC2K2Fj"
      }
    },
    {
      "cell_type": "code",
      "source": [
        "train_split = int(0.8 * len(X))\n",
        "X_train, y_train = X[:train_split], y[:train_split]\n",
        "X_test, y_test = X[train_split:], y[train_split:]\n",
        "\n",
        "len(X_train), len(y_train), len(X_test), len(y_test)"
      ],
      "metadata": {
        "colab": {
          "base_uri": "https://localhost:8080/"
        },
        "id": "thrGbf4xL83P",
        "outputId": "402be05e-8036-4402-d1ec-6af51da3b81a"
      },
      "execution_count": 3,
      "outputs": [
        {
          "output_type": "execute_result",
          "data": {
            "text/plain": [
              "(40, 40, 10, 10)"
            ]
          },
          "metadata": {},
          "execution_count": 3
        }
      ]
    },
    {
      "cell_type": "code",
      "source": [
        "def plot_predictions(train_data = X_train,\n",
        "                     train_labels = y_train,\n",
        "                     test_data = X_test,\n",
        "                     test_labels = y_test,\n",
        "                     predictions = None):\n",
        "  \"\"\"\n",
        "  Plots training data, test data and compares predictions.\n",
        "  \"\"\"\n",
        "  plt.figure(figsize=(8,5))\n",
        "  plt.scatter(train_data, train_labels, c=\"b\", s=4, label=\"Training data\")\n",
        "  plt.scatter(test_data, test_labels, c=\"g\", s=4, label=\"Testing data\")\n",
        "\n",
        "  if predictions is not None:\n",
        "    plt.scatter(test_data, predictions, c=\"r\", s=4, label=\"Predictions\")\n",
        "\n",
        "  plt.legend(prop={\"size\": 10})\n",
        "  plt.show()"
      ],
      "metadata": {
        "id": "Kmd0hQ0uNPR3"
      },
      "execution_count": 4,
      "outputs": []
    },
    {
      "cell_type": "code",
      "source": [
        "plot_predictions()"
      ],
      "metadata": {
        "colab": {
          "base_uri": "https://localhost:8080/",
          "height": 445
        },
        "id": "7JFrJ4pZQCFj",
        "outputId": "176d5386-f65c-4294-a2ec-9f9bc0438f59"
      },
      "execution_count": 5,
      "outputs": [
        {
          "output_type": "display_data",
          "data": {
            "text/plain": [
              "<Figure size 800x500 with 1 Axes>"
            ],
            "image/png": "[encoded data removed]"
          },
          "metadata": {}
        }
      ]
    },
    {
      "cell_type": "markdown",
      "source": [
        "### Build a linear regression module"
      ],
      "metadata": {
        "id": "wYD5NWQNQTz0"
      }
    },
    {
      "cell_type": "code",
      "source": [
        "# Create a Linear Regression model class\n",
        "class LinearRegressionModel(nn.Module):\n",
        "  def __init__(self):\n",
        "    super().__init__()\n",
        "    self.weight = nn.Parameter(torch.randn(1))\n",
        "    self.bias = nn.Parameter(torch.randn(1))\n",
        "\n",
        "  def forward(self, x: torch.Tensor) -> torch.Tensor:\n",
        "    return self.weight * x + self.bias"
      ],
      "metadata": {
        "id": "zmkpzzxtSSp1"
      },
      "execution_count": 6,
      "outputs": []
    },
    {
      "cell_type": "code",
      "source": [
        "torch.manual_seed(42)\n",
        "model = LinearRegressionModel()\n",
        "list(model.parameters())"
      ],
      "metadata": {
        "colab": {
          "base_uri": "https://localhost:8080/"
        },
        "id": "n0ImBy7NGMmU",
        "outputId": "d84e4180-0583-4e82-fabb-f80ebc9b2797"
      },
      "execution_count": 7,
      "outputs": [
        {
          "output_type": "execute_result",
          "data": {
            "text/plain": [
              "[Parameter containing:\n",
              " tensor([0.3367], requires_grad=True),\n",
              " Parameter containing:\n",
              " tensor([0.1288], requires_grad=True)]"
            ]
          },
          "metadata": {},
          "execution_count": 7
        }
      ]
    },
    {
      "cell_type": "code",
      "source": [
        "model.state_dict()"
      ],
      "metadata": {
        "colab": {
          "base_uri": "https://localhost:8080/"
        },
        "id": "3OpJZVE4GY0y",
        "outputId": "b3e58343-41a9-459f-e71a-7aef8a1fd422"
      },
      "execution_count": 8,
      "outputs": [
        {
          "output_type": "execute_result",
          "data": {
            "text/plain": [
              "OrderedDict([('weight', tensor([0.3367])), ('bias', tensor([0.1288]))])"
            ]
          },
          "metadata": {},
          "execution_count": 8
        }
      ]
    },
    {
      "cell_type": "code",
      "source": [
        "# Make predictions with model\n",
        "# torch.inference_mode() turns off a bunch of things (like gradient tracking, which is necessary for training but not for inference)\n",
        "# to make forward-passes (data going through the forward() method) faster.\n",
        "with torch.inference_mode():\n",
        "  y_preds = model(X_test)\n",
        "\n",
        "y_preds"
      ],
      "metadata": {
        "colab": {
          "base_uri": "https://localhost:8080/"
        },
        "id": "BflY-diEHi6i",
        "outputId": "830cb66f-275d-4ba7-d823-e7808e44b30c"
      },
      "execution_count": 9,
      "outputs": [
        {
          "output_type": "execute_result",
          "data": {
            "text/plain": [
              "tensor([[0.3982],\n",
              "        [0.4049],\n",
              "        [0.4116],\n",
              "        [0.4184],\n",
              "        [0.4251],\n",
              "        [0.4318],\n",
              "        [0.4386],\n",
              "        [0.4453],\n",
              "        [0.4520],\n",
              "        [0.4588]])"
            ]
          },
          "metadata": {},
          "execution_count": 9
        }
      ]
    },
    {
      "cell_type": "code",
      "source": [
        "plot_predictions(predictions=y_preds)"
      ],
      "metadata": {
        "colab": {
          "base_uri": "https://localhost:8080/",
          "height": 445
        },
        "id": "A9vpCX1EJDjI",
        "outputId": "374ea692-aaa2-4832-ea98-b4503c62f1b3"
      },
      "execution_count": 10,
      "outputs": [
        {
          "output_type": "display_data",
          "data": {
            "text/plain": [
              "<Figure size 800x500 with 1 Axes>"
            ],
            "image/png": "[encoded data removed]"
          },
          "metadata": {}
        }
      ]
    },
    {
      "cell_type": "markdown",
      "source": [
        "### Train the model"
      ],
      "metadata": {
        "id": "vde4ISkbLBNN"
      }
    },
    {
      "cell_type": "code",
      "source": [
        "# Setup a loss function\n",
        "loss_fn = nn.L1Loss()\n",
        "\n",
        "# Setup an optimizer\n",
        "optimizer = torch.optim.SGD(params=model.parameters(), lr=0.01)"
      ],
      "metadata": {
        "id": "emd03MQNevG0"
      },
      "execution_count": 11,
      "outputs": []
    },
    {
      "cell_type": "code",
      "source": [
        "torch.manual_seed(42)\n",
        "\n",
        "epochs = 200\n",
        "epoch_count = []\n",
        "train_loss_val = []\n",
        "test_loss_val = []\n",
        "\n",
        "\n",
        "### Training\n",
        "# 0. Loop through the data\n",
        "for epoch in range(epochs):\n",
        "  model.train()                       # Set the model to training mode\n",
        "  y_pred = model(X_train)             # 1. Forward pass\n",
        "  loss = loss_fn(y_pred, y_train)     # 2. Calculate the loss\n",
        "  optimizer.zero_grad()               # 3. Clear out the gradients of all parameters that the optimizer is tracking\n",
        "  loss.backward()                     # 4. Perform backpropagation on the loss with respect to the parameters of the model (calculate gradients of each parameter)\n",
        "  optimizer.step()                    # 5. Perform gradient descent\n",
        "\n",
        "### Testing\n",
        "  model.eval()\n",
        "  with torch.inference_mode():\n",
        "    test_pred = model(X_test)                 # 1. Forward pass on test data\n",
        "    test_loss = loss_fn(test_pred, y_test)    # 2. Calculate the loss\n",
        "\n",
        "    if epoch % 10 == 0:\n",
        "      epoch_count.append(epoch)\n",
        "      train_loss_val.append(loss.detach().numpy())\n",
        "      test_loss_val.append(test_loss.detach().numpy())\n",
        "      #(f\"Epoch: {epoch} | Loss: {loss} | Test loss: {test_loss}\")\n",
        "      print(model.state_dict())\n"
      ],
      "metadata": {
        "colab": {
          "base_uri": "https://localhost:8080/"
        },
        "id": "O185MEpr3vCF",
        "outputId": "90bcf288-37bc-417f-8871-b3820a56bba7"
      },
      "execution_count": 12,
      "outputs": [
        {
          "output_type": "stream",
          "name": "stdout",
          "text": [
            "OrderedDict([('weight', tensor([0.3406])), ('bias', tensor([0.1388]))])\n",
            "OrderedDict([('weight', tensor([0.3796])), ('bias', tensor([0.2388]))])\n",
            "OrderedDict([('weight', tensor([0.4184])), ('bias', tensor([0.3333]))])\n",
            "OrderedDict([('weight', tensor([0.4512])), ('bias', tensor([0.3768]))])\n",
            "OrderedDict([('weight', tensor([0.4748])), ('bias', tensor([0.3868]))])\n",
            "OrderedDict([('weight', tensor([0.4938])), ('bias', tensor([0.3843]))])\n",
            "OrderedDict([('weight', tensor([0.5116])), ('bias', tensor([0.3788]))])\n",
            "OrderedDict([('weight', tensor([0.5288])), ('bias', tensor([0.3718]))])\n",
            "OrderedDict([('weight', tensor([0.5459])), ('bias', tensor([0.3648]))])\n",
            "OrderedDict([('weight', tensor([0.5629])), ('bias', tensor([0.3573]))])\n",
            "OrderedDict([('weight', tensor([0.5800])), ('bias', tensor([0.3503]))])\n",
            "OrderedDict([('weight', tensor([0.5972])), ('bias', tensor([0.3433]))])\n",
            "OrderedDict([('weight', tensor([0.6141])), ('bias', tensor([0.3358]))])\n",
            "OrderedDict([('weight', tensor([0.6313])), ('bias', tensor([0.3288]))])\n",
            "OrderedDict([('weight', tensor([0.6485])), ('bias', tensor([0.3218]))])\n",
            "OrderedDict([('weight', tensor([0.6654])), ('bias', tensor([0.3143]))])\n",
            "OrderedDict([('weight', tensor([0.6826])), ('bias', tensor([0.3073]))])\n",
            "OrderedDict([('weight', tensor([0.6951])), ('bias', tensor([0.2993]))])\n",
            "OrderedDict([('weight', tensor([0.6951])), ('bias', tensor([0.2993]))])\n",
            "OrderedDict([('weight', tensor([0.6951])), ('bias', tensor([0.2993]))])\n"
          ]
        }
      ]
    },
    {
      "cell_type": "code",
      "source": [
        "plot_predictions(predictions=test_pred)"
      ],
      "metadata": {
        "colab": {
          "base_uri": "https://localhost:8080/",
          "height": 445
        },
        "id": "MIUEbevzO1iU",
        "outputId": "d4f76559-5082-4eab-a94b-d7d4976a9bc2"
      },
      "execution_count": 13,
      "outputs": [
        {
          "output_type": "display_data",
          "data": {
            "text/plain": [
              "<Figure size 800x500 with 1 Axes>"
            ],
            "image/png": "[encoded data removed]"
          },
          "metadata": {}
        }
      ]
    },
    {
      "cell_type": "code",
      "source": [
        "train_loss_val"
      ],
      "metadata": {
        "colab": {
          "base_uri": "https://localhost:8080/"
        },
        "id": "h4TJ5E_icSSl",
        "outputId": "cd5134e9-2e76-44e4-a514-24b78510967d"
      },
      "execution_count": 14,
      "outputs": [
        {
          "output_type": "execute_result",
          "data": {
            "text/plain": [
              "[array(0.31288138, dtype=float32),\n",
              " array(0.19767132, dtype=float32),\n",
              " array(0.08908726, dtype=float32),\n",
              " array(0.05314853, dtype=float32),\n",
              " array(0.04543797, dtype=float32),\n",
              " array(0.04167863, dtype=float32),\n",
              " array(0.03818933, dtype=float32),\n",
              " array(0.0347609, dtype=float32),\n",
              " array(0.03132383, dtype=float32),\n",
              " array(0.0278874, dtype=float32),\n",
              " array(0.02445896, dtype=float32),\n",
              " array(0.02102021, dtype=float32),\n",
              " array(0.01758547, dtype=float32),\n",
              " array(0.01415539, dtype=float32),\n",
              " array(0.01071659, dtype=float32),\n",
              " array(0.00728353, dtype=float32),\n",
              " array(0.00385178, dtype=float32),\n",
              " array(0.00893248, dtype=float32),\n",
              " array(0.00893248, dtype=float32),\n",
              " array(0.00893248, dtype=float32)]"
            ]
          },
          "metadata": {},
          "execution_count": 14
        }
      ]
    },
    {
      "cell_type": "code",
      "source": [
        "plt.plot(epoch_count, train_loss_val, label=\"Train loss\")\n",
        "plt.plot(epoch_count, test_loss_val, label=\"Test loss\")\n",
        "plt.title(\"Training and test loss curves\")\n",
        "plt.ylabel(\"Loss\")\n",
        "plt.xlabel(\"Epochs\")\n",
        "plt.legend();\n",
        "plt.show()"
      ],
      "metadata": {
        "colab": {
          "base_uri": "https://localhost:8080/",
          "height": 472
        },
        "id": "jOxSRXXjO-P4",
        "outputId": "b0d25076-232d-435e-d93e-1c02ac0d3247"
      },
      "execution_count": 15,
      "outputs": [
        {
          "output_type": "display_data",
          "data": {
            "text/plain": [
              "<Figure size 640x480 with 1 Axes>"
            ],
            "image/png": "[encoded data removed]"
          },
          "metadata": {}
        }
      ]
    },
    {
      "cell_type": "markdown",
      "source": [
        "#Saving and loading model"
      ],
      "metadata": {
        "id": "2ODYP2-WavUv"
      }
    },
    {
      "cell_type": "code",
      "source": [
        "from pathlib import Path\n",
        "\n",
        "MODEL_PATH = Path(\"models\")\n",
        "MODEL_PATH.mkdir(parents=True, exist_ok=True)\n",
        "\n",
        "MODEL_NAME = \"01_pytorch_workflow_model.pth\"\n",
        "MODEL_SAVE_PATH = MODEL_PATH / MODEL_NAME\n",
        "\n",
        "print(f\"Saving to: {MODEL_SAVE_PATH}\")\n",
        "torch.save(obj=model.state_dict(), f=MODEL_SAVE_PATH)"
      ],
      "metadata": {
        "colab": {
          "base_uri": "https://localhost:8080/"
        },
        "id": "cxUEuTa7vHnV",
        "outputId": "b7014992-139e-446f-feff-7fe1aa5b3129"
      },
      "execution_count": 16,
      "outputs": [
        {
          "output_type": "stream",
          "name": "stdout",
          "text": [
            "Saving to: models/01_pytorch_workflow_model.pth\n"
          ]
        }
      ]
    },
    {
      "cell_type": "code",
      "source": [
        "!ls -l models/"
      ],
      "metadata": {
        "colab": {
          "base_uri": "https://localhost:8080/"
        },
        "id": "DtiQ907gxY2S",
        "outputId": "7f79b6f7-a31e-487f-f34f-075599d77629"
      },
      "execution_count": 17,
      "outputs": [
        {
          "output_type": "stream",
          "name": "stdout",
          "text": [
            "total 4\n",
            "-rw-r--r-- 1 root root 1668 Jun 26 06:50 01_pytorch_workflow_model.pth\n"
          ]
        }
      ]
    },
    {
      "cell_type": "code",
      "source": [
        "loaded_model = LinearRegressionModel()\n",
        "loaded_model.load_state_dict(torch.load(MODEL_SAVE_PATH))\n",
        "loaded_model.state_dict()"
      ],
      "metadata": {
        "colab": {
          "base_uri": "https://localhost:8080/"
        },
        "id": "iKzza23Xxbn2",
        "outputId": "2d44ad54-c9be-4077-c428-53beb81031c1"
      },
      "execution_count": 18,
      "outputs": [
        {
          "output_type": "execute_result",
          "data": {
            "text/plain": [
              "OrderedDict([('weight', tensor([0.6990])), ('bias', tensor([0.3093]))])"
            ]
          },
          "metadata": {},
          "execution_count": 18
        }
      ]
    },
    {
      "cell_type": "code",
      "source": [
        "model.eval()\n",
        "with torch.inference_mode():\n",
        "  y_preds = model(X_test)"
      ],
      "metadata": {
        "id": "qYhPcYRH0uEL"
      },
      "execution_count": 19,
      "outputs": []
    },
    {
      "cell_type": "code",
      "source": [
        "loaded_model.eval()\n",
        "with torch.inference_mode():\n",
        "  loaded_model_preds = loaded_model(X_test)\n",
        "\n",
        "y_preds == loaded_model_preds"
      ],
      "metadata": {
        "colab": {
          "base_uri": "https://localhost:8080/"
        },
        "id": "F86OGM-DycYz",
        "outputId": "b668842b-64cd-4513-aaad-6a0125e94541"
      },
      "execution_count": 20,
      "outputs": [
        {
          "output_type": "execute_result",
          "data": {
            "text/plain": [
              "tensor([[True],\n",
              "        [True],\n",
              "        [True],\n",
              "        [True],\n",
              "        [True],\n",
              "        [True],\n",
              "        [True],\n",
              "        [True],\n",
              "        [True],\n",
              "        [True]])"
            ]
          },
          "metadata": {},
          "execution_count": 20
        }
      ]
    },
    {
      "cell_type": "markdown",
      "source": [
        "# Build a linear regression module using nn.Linear\n"
      ],
      "metadata": {
        "id": "ajk3uW3B0QSK"
      }
    },
    {
      "cell_type": "code",
      "source": [
        "class LinearRegressionModelV2(nn.Module):\n",
        "  def __init__(self):\n",
        "    super().__init__()\n",
        "    self.linear_layer = nn.Linear(in_features=1, out_features=1)\n",
        "\n",
        "  def forward(self, x: torch.Tensor) -> torch.Tensor:\n",
        "    return self.linear_layer(x)"
      ],
      "metadata": {
        "id": "esWNvFynIpn0"
      },
      "execution_count": 21,
      "outputs": []
    },
    {
      "cell_type": "code",
      "source": [
        "torch.manual_seed(42)\n",
        "model_linear = LinearRegressionModelV2()\n",
        "model_linear, model_linear.state_dict()"
      ],
      "metadata": {
        "colab": {
          "base_uri": "https://localhost:8080/"
        },
        "id": "djQ5O7MMQdRc",
        "outputId": "8c06839e-c405-4b4c-929f-d313cbad56c1"
      },
      "execution_count": 22,
      "outputs": [
        {
          "output_type": "execute_result",
          "data": {
            "text/plain": [
              "(LinearRegressionModelV2(\n",
              "   (linear_layer): Linear(in_features=1, out_features=1, bias=True)\n",
              " ),\n",
              " OrderedDict([('linear_layer.weight', tensor([[0.7645]])),\n",
              "              ('linear_layer.bias', tensor([0.8300]))]))"
            ]
          },
          "metadata": {},
          "execution_count": 22
        }
      ]
    },
    {
      "cell_type": "code",
      "source": [
        "loss_fn = nn.L1Loss()\n",
        "optimizer = torch.optim.Adam(params=model_linear.parameters(), lr=0.01)\n",
        "\n",
        "torch.manual_seed(42)\n",
        "epochs = 200\n",
        "\n",
        "### Training\n",
        "for epoch in range(epochs):\n",
        "  model_linear.train()\n",
        "  y_pred = model_linear(X_train)      # 1. Forward pass\n",
        "  loss = loss_fn(y_pred, y_train)     # 2. Calculate loss\n",
        "  optimizer.zero_grad()               # 3. Zero grad\n",
        "  loss.backward()                     # 4. Perform backpropagation\n",
        "  optimizer.step()                    # 5. Optimizer step\n",
        "\n",
        "  ### Testing\n",
        "  model_linear.eval()\n",
        "  with torch.inference_mode():\n",
        "    test_pred = model_linear(X_test)\n",
        "    test_loss = loss_fn(test_loss, y_test)\n",
        "\n",
        "  if (epoch % 10 == 0):\n",
        "    print(f\"Epoch: {epoch} | Loss: {loss} | Test loss: {test_loss}\")"
      ],
      "metadata": {
        "colab": {
          "base_uri": "https://localhost:8080/"
        },
        "id": "ma3peJydQy-w",
        "outputId": "fb5393e5-2f19-4635-e552-c674b2d9786c"
      },
      "execution_count": 23,
      "outputs": [
        {
          "output_type": "stream",
          "name": "stdout",
          "text": [
            "Epoch: 0 | Loss: 0.5551779866218567 | Test loss: 0.9145522117614746\n",
            "Epoch: 10 | Loss: 0.4161780774593353 | Test loss: 0.8691787719726562\n",
            "Epoch: 20 | Loss: 0.27717819809913635 | Test loss: 0.863007664680481\n",
            "Epoch: 30 | Loss: 0.13817831873893738 | Test loss: 0.8609855771064758\n",
            "Epoch: 40 | Loss: 0.06483234465122223 | Test loss: 0.8603229522705078\n",
            "Epoch: 50 | Loss: 0.06953977048397064 | Test loss: 0.8601056933403015\n",
            "Epoch: 60 | Loss: 0.0556403286755085 | Test loss: 0.8600345849990845\n",
            "Epoch: 70 | Loss: 0.0445832721889019 | Test loss: 0.8600112795829773\n",
            "Epoch: 80 | Loss: 0.03573416918516159 | Test loss: 0.860003650188446\n",
            "Epoch: 90 | Loss: 0.025599658489227295 | Test loss: 0.8600012063980103\n",
            "Epoch: 100 | Loss: 0.015041215345263481 | Test loss: 0.8600004315376282\n",
            "Epoch: 110 | Loss: 0.004283720161765814 | Test loss: 0.8600002527236938\n",
            "Epoch: 120 | Loss: 0.0037691467441618443 | Test loss: 0.8600002527236938\n",
            "Epoch: 130 | Loss: 0.0002783544478006661 | Test loss: 0.8600002527236938\n",
            "Epoch: 140 | Loss: 0.0009311817702837288 | Test loss: 0.8600002527236938\n",
            "Epoch: 150 | Loss: 0.0006548240780830383 | Test loss: 0.8600002527236938\n",
            "Epoch: 160 | Loss: 0.0004108540597371757 | Test loss: 0.8600002527236938\n",
            "Epoch: 170 | Loss: 0.0007727757329121232 | Test loss: 0.8600002527236938\n",
            "Epoch: 180 | Loss: 0.00021931901574134827 | Test loss: 0.8600002527236938\n",
            "Epoch: 190 | Loss: 0.0019032970303669572 | Test loss: 0.8600002527236938\n"
          ]
        },
        {
          "output_type": "stream",
          "name": "stderr",
          "text": [
            "/usr/local/lib/python3.11/dist-packages/torch/nn/modules/loss.py:128: UserWarning: Using a target size (torch.Size([10, 1])) that is different to the input size (torch.Size([])). This will likely lead to incorrect results due to broadcasting. Please ensure they have the same size.\n",
            "  return F.l1_loss(input, target, reduction=self.reduction)\n"
          ]
        }
      ]
    },
    {
      "cell_type": "code",
      "source": [
        "model_linear.state_dict()"
      ],
      "metadata": {
        "colab": {
          "base_uri": "https://localhost:8080/"
        },
        "id": "LG-KIE7hWwFK",
        "outputId": "b627292b-f0c7-4a19-beb9-e72d3eb1a86d"
      },
      "execution_count": 24,
      "outputs": [
        {
          "output_type": "execute_result",
          "data": {
            "text/plain": [
              "OrderedDict([('linear_layer.weight', tensor([[0.6953]])),\n",
              "             ('linear_layer.bias', tensor([0.3000]))])"
            ]
          },
          "metadata": {},
          "execution_count": 24
        }
      ]
    },
    {
      "cell_type": "code",
      "source": [
        "# Making and evaluating predictions\n",
        "model_linear.eval()\n",
        "with torch.inference_mode():\n",
        "  y_preds = model_linear(X_test)\n",
        "y_preds"
      ],
      "metadata": {
        "colab": {
          "base_uri": "https://localhost:8080/"
        },
        "id": "e9oDEWzrXD1c",
        "outputId": "d806e562-3309-4e6b-ce38-8331d1a64e59"
      },
      "execution_count": 25,
      "outputs": [
        {
          "output_type": "execute_result",
          "data": {
            "text/plain": [
              "tensor([[0.8562],\n",
              "        [0.8701],\n",
              "        [0.8841],\n",
              "        [0.8980],\n",
              "        [0.9119],\n",
              "        [0.9258],\n",
              "        [0.9397],\n",
              "        [0.9536],\n",
              "        [0.9675],\n",
              "        [0.9814]])"
            ]
          },
          "metadata": {},
          "execution_count": 25
        }
      ]
    },
    {
      "cell_type": "code",
      "source": [
        "plot_predictions(predictions=y_preds)"
      ],
      "metadata": {
        "colab": {
          "base_uri": "https://localhost:8080/",
          "height": 445
        },
        "id": "S4gCQcyNYIZy",
        "outputId": "5ed8e1e3-8ca4-43a5-aabd-ece49c825b83"
      },
      "execution_count": 26,
      "outputs": [
        {
          "output_type": "display_data",
          "data": {
            "text/plain": [
              "<Figure size 800x500 with 1 Axes>"
            ],
            "image/png": "[encoded data removed]"
          },
          "metadata": {}
        }
      ]
    },
    {
      "cell_type": "code",
      "source": [
        "MODEL_PATH = Path(\"models\")\n",
        "MODEL_PATH.mkdir(parents=True, exist_ok=True)\n",
        "\n",
        "MODEL_NAME = \"01_pytorch_workflow_model_v2.pth\"\n",
        "MODEL_SAVE_PATH = MODEL_PATH / MODEL_NAME\n",
        "\n",
        "print(f\"Saving model to: {MODEL_SAVE_PATH}\")\n",
        "torch.save(obj=model_linear.state_dict(), f=MODEL_SAVE_PATH)"
      ],
      "metadata": {
        "colab": {
          "base_uri": "https://localhost:8080/"
        },
        "id": "QsZTE-5dYOZ-",
        "outputId": "f490ea45-fc61-4a26-b9b7-a7158ae3b1b6"
      },
      "execution_count": 27,
      "outputs": [
        {
          "output_type": "stream",
          "name": "stdout",
          "text": [
            "Saving model to: models/01_pytorch_workflow_model_v2.pth\n"
          ]
        }
      ]
    },
    {
      "cell_type": "code",
      "source": [
        "# Load the model\n",
        "l_model_linear = LinearRegressionModelV2()\n",
        "l_model_linear.load_state_dict(torch.load(MODEL_SAVE_PATH))\n",
        "\n",
        "#l_model_linear.to(device)\n",
        "l_model_linear, l_model_linear.state_dict()"
      ],
      "metadata": {
        "colab": {
          "base_uri": "https://localhost:8080/"
        },
        "id": "0vq_Vxo9A_r7",
        "outputId": "a2ed5407-f222-4cf6-80d2-519a05bf5c25"
      },
      "execution_count": 28,
      "outputs": [
        {
          "output_type": "execute_result",
          "data": {
            "text/plain": [
              "(LinearRegressionModelV2(\n",
              "   (linear_layer): Linear(in_features=1, out_features=1, bias=True)\n",
              " ),\n",
              " OrderedDict([('linear_layer.weight', tensor([[0.6953]])),\n",
              "              ('linear_layer.bias', tensor([0.3000]))]))"
            ]
          },
          "metadata": {},
          "execution_count": 28
        }
      ]
    },
    {
      "cell_type": "code",
      "source": [
        "# Evaluate loded model\n",
        "l_model_linear.eval()\n",
        "with torch.inference_mode():\n",
        "  l_model_linear_preds = l_model_linear(X_test)\n",
        "y_preds  == l_model_linear_preds"
      ],
      "metadata": {
        "colab": {
          "base_uri": "https://localhost:8080/"
        },
        "id": "NO0jEvmcCQ84",
        "outputId": "4a31a03e-b515-4678-a226-33367f14f1bc"
      },
      "execution_count": 29,
      "outputs": [
        {
          "output_type": "execute_result",
          "data": {
            "text/plain": [
              "tensor([[True],\n",
              "        [True],\n",
              "        [True],\n",
              "        [True],\n",
              "        [True],\n",
              "        [True],\n",
              "        [True],\n",
              "        [True],\n",
              "        [True],\n",
              "        [True]])"
            ]
          },
          "metadata": {},
          "execution_count": 29
        }
      ]
    },
    {
      "cell_type": "markdown",
      "source": [
        "# Exercises"
      ],
      "metadata": {
        "id": "rjbC6WyWCuVY"
      }
    },
    {
      "cell_type": "code",
      "source": [
        "weight = 0.3\n",
        "bias = 0.9\n",
        "\n",
        "X = torch.arange(-1, 1, 0.01).unsqueeze(dim=1)\n",
        "y = weight * X + bias\n",
        "X[:5], y[:5]"
      ],
      "metadata": {
        "colab": {
          "base_uri": "https://localhost:8080/"
        },
        "id": "xOUV4j60Dk_W",
        "outputId": "dc2a99d2-2926-4851-9821-ab8c1daaa1bc"
      },
      "execution_count": 84,
      "outputs": [
        {
          "output_type": "execute_result",
          "data": {
            "text/plain": [
              "(tensor([[-1.0000],\n",
              "         [-0.9900],\n",
              "         [-0.9800],\n",
              "         [-0.9700],\n",
              "         [-0.9600]]),\n",
              " tensor([[0.6000],\n",
              "         [0.6030],\n",
              "         [0.6060],\n",
              "         [0.6090],\n",
              "         [0.6120]]))"
            ]
          },
          "metadata": {},
          "execution_count": 84
        }
      ]
    },
    {
      "cell_type": "code",
      "source": [
        "test_split_limit = int(len(X) * 0.8)\n",
        "test_split_limit"
      ],
      "metadata": {
        "colab": {
          "base_uri": "https://localhost:8080/"
        },
        "id": "xOM9vZtlEEfA",
        "outputId": "ae186e5d-96fe-49e8-a135-6c5e6dd1452b"
      },
      "execution_count": 85,
      "outputs": [
        {
          "output_type": "execute_result",
          "data": {
            "text/plain": [
              "160"
            ]
          },
          "metadata": {},
          "execution_count": 85
        }
      ]
    },
    {
      "cell_type": "code",
      "source": [
        "X_train, y_train = X[:test_split_limit], y[:test_split_limit]\n",
        "X_test, y_test = X[test_split_limit:], y[test_split_limit:]\n",
        "\n",
        "len(X_train), len(y_train), len(X_test), len(y_test)"
      ],
      "metadata": {
        "colab": {
          "base_uri": "https://localhost:8080/"
        },
        "id": "1ZtO6M4mEwYI",
        "outputId": "284f2aeb-6802-44a0-a840-633194dcc109"
      },
      "execution_count": 86,
      "outputs": [
        {
          "output_type": "execute_result",
          "data": {
            "text/plain": [
              "(160, 160, 40, 40)"
            ]
          },
          "metadata": {},
          "execution_count": 86
        }
      ]
    },
    {
      "cell_type": "code",
      "source": [
        "def plot_data(train_data = X_train,\n",
        "              train_labels = y_train,\n",
        "              test_data = X_test,\n",
        "              test_labels = y_test,\n",
        "              predictions = None):\n",
        "\n",
        "  plt.figure(figsize=(15,5))\n",
        "  plt.scatter(train_data, train_labels, c=\"b\", s=2, label=\"Train data\")\n",
        "  plt.scatter(test_data, test_labels, c=\"g\", s=2, label=\"Test data\")\n",
        "  if predictions is not None:\n",
        "    plt.scatter(test_data, predictions, c=\"r\", s=2, label=\"Predictions\")\n",
        "  plt.legend()\n",
        "  plt.show()"
      ],
      "metadata": {
        "id": "3w05xdZFFQq6"
      },
      "execution_count": 109,
      "outputs": []
    },
    {
      "cell_type": "code",
      "source": [
        "plot_data()"
      ],
      "metadata": {
        "colab": {
          "base_uri": "https://localhost:8080/",
          "height": 445
        },
        "id": "_iktQyoyGKqK",
        "outputId": "db5602b5-c92a-4dfb-a677-93cc2e12d5f4"
      },
      "execution_count": 88,
      "outputs": [
        {
          "output_type": "display_data",
          "data": {
            "text/plain": [
              "<Figure size 1500x500 with 1 Axes>"
            ],
            "image/png": "[encoded data removed]"
          },
          "metadata": {}
        }
      ]
    },
    {
      "cell_type": "code",
      "source": [
        "class LinearRegressionModelV3(nn.Module):\n",
        "  def __init__(self):\n",
        "    super().__init__()\n",
        "    self.linear_layer = nn.Linear(in_features=1, out_features=1)\n",
        "\n",
        "  def forward(self, x: torch.Tensor) -> torch.Tensor:\n",
        "    return self.linear_layer(x)"
      ],
      "metadata": {
        "id": "lLEmY7aRGOPE"
      },
      "execution_count": 173,
      "outputs": []
    },
    {
      "cell_type": "code",
      "source": [
        "torch.manual_seed(42)\n",
        "\n",
        "model_3 = LinearRegressionModelV3()\n",
        "model_3, model_3.state_dict()"
      ],
      "metadata": {
        "colab": {
          "base_uri": "https://localhost:8080/"
        },
        "id": "rVRz9AO0J5aG",
        "outputId": "df3f69d2-fb64-4327-b8a9-aebfadc25eeb"
      },
      "execution_count": 185,
      "outputs": [
        {
          "output_type": "execute_result",
          "data": {
            "text/plain": [
              "(LinearRegressionModelV3(\n",
              "   (linear_layer): Linear(in_features=1, out_features=1, bias=True)\n",
              " ),\n",
              " OrderedDict([('linear_layer.weight', tensor([[0.7645]])),\n",
              "              ('linear_layer.bias', tensor([0.8300]))]))"
            ]
          },
          "metadata": {},
          "execution_count": 185
        }
      ]
    },
    {
      "cell_type": "code",
      "source": [
        "loss_fn = nn.L1Loss()\n",
        "optimizer = torch.optim.Adam(params=model_3.parameters(), lr=0.01)\n",
        "\n",
        "torch.manual_seed(42)\n",
        "epoch_count = []\n",
        "train_loss_val = []\n",
        "test_loss_val = []\n",
        "epochs=150\n",
        "\n",
        "for epoch in range(epochs):\n",
        "  model_3.train()\n",
        "  y_preds = model_3(X_train)\n",
        "  loss = loss_fn(y_preds, y_train)\n",
        "  optimizer.zero_grad()\n",
        "  loss.backward()\n",
        "  optimizer.step()\n",
        "\n",
        "  model_3.eval()\n",
        "  with torch.inference_mode():\n",
        "    test_preds = model_3(X_test)\n",
        "    test_loss = loss_fn(test_preds, y_test)\n",
        "\n",
        "  if (epoch % 10 == 0):\n",
        "    epoch_count.append(epoch)\n",
        "    train_loss_val.append(loss.detach().numpy())\n",
        "    test_loss_val.append(test_loss.detach().numpy())\n",
        "  if epoch % 10 == 0:\n",
        "        print(f\"Epoch: {epoch} | Train loss: {loss} | Test loss: {test_loss}\")"
      ],
      "metadata": {
        "colab": {
          "base_uri": "https://localhost:8080/"
        },
        "id": "yqCpY5yXKHjm",
        "outputId": "a5ec400f-65d4-4bb5-f326-7998f7278082"
      },
      "execution_count": 186,
      "outputs": [
        {
          "output_type": "stream",
          "name": "stdout",
          "text": [
            "Epoch: 0 | Train loss: 0.22253790497779846 | Test loss: 0.30136603116989136\n",
            "Epoch: 10 | Train loss: 0.14970926940441132 | Test loss: 0.3170817494392395\n",
            "Epoch: 20 | Train loss: 0.10880176723003387 | Test loss: 0.2934221029281616\n",
            "Epoch: 30 | Train loss: 0.07168492674827576 | Test loss: 0.18765540421009064\n",
            "Epoch: 40 | Train loss: 0.03148014470934868 | Test loss: 0.05923248454928398\n",
            "Epoch: 50 | Train loss: 0.007167644798755646 | Test loss: 0.027329275384545326\n",
            "Epoch: 60 | Train loss: 0.006880882196128368 | Test loss: 0.010783439502120018\n",
            "Epoch: 70 | Train loss: 0.003780938684940338 | Test loss: 0.005453458521515131\n",
            "Epoch: 80 | Train loss: 0.0016219265526160598 | Test loss: 0.0007502406951971352\n",
            "Epoch: 90 | Train loss: 0.0021471299696713686 | Test loss: 0.006090166978538036\n",
            "Epoch: 100 | Train loss: 0.0011761825298890471 | Test loss: 8.374154276680201e-05\n",
            "Epoch: 110 | Train loss: 0.0017974093789234757 | Test loss: 0.0030982433818280697\n",
            "Epoch: 120 | Train loss: 0.002114073606207967 | Test loss: 0.0021864683367311954\n",
            "Epoch: 130 | Train loss: 0.0025737155228853226 | Test loss: 0.0017412245506420732\n",
            "Epoch: 140 | Train loss: 0.002797656925395131 | Test loss: 0.002621743129566312\n"
          ]
        }
      ]
    },
    {
      "cell_type": "code",
      "source": [
        "model_3.state_dict()"
      ],
      "metadata": {
        "colab": {
          "base_uri": "https://localhost:8080/"
        },
        "id": "-HdopesGUfMu",
        "outputId": "522a4201-7fd4-4c63-f858-dee7bfd444f6"
      },
      "execution_count": 187,
      "outputs": [
        {
          "output_type": "execute_result",
          "data": {
            "text/plain": [
              "OrderedDict([('linear_layer.weight', tensor([[0.3011]])),\n",
              "             ('linear_layer.bias', tensor([0.8988]))])"
            ]
          },
          "metadata": {},
          "execution_count": 187
        }
      ]
    },
    {
      "cell_type": "code",
      "source": [
        "model_linear.eval()\n",
        "with torch.inference_mode():\n",
        "  preds = model_3(X_test)\n",
        "preds[:5]"
      ],
      "metadata": {
        "colab": {
          "base_uri": "https://localhost:8080/"
        },
        "id": "OcKUCnzNSLVd",
        "outputId": "9f7b52c9-e47f-4081-de49-4f6b9e629d54"
      },
      "execution_count": 188,
      "outputs": [
        {
          "output_type": "execute_result",
          "data": {
            "text/plain": [
              "tensor([[1.0795],\n",
              "        [1.0825],\n",
              "        [1.0855],\n",
              "        [1.0885],\n",
              "        [1.0915]])"
            ]
          },
          "metadata": {},
          "execution_count": 188
        }
      ]
    },
    {
      "cell_type": "code",
      "source": [
        "plot_data(predictions=preds)"
      ],
      "metadata": {
        "colab": {
          "base_uri": "https://localhost:8080/",
          "height": 445
        },
        "id": "8-B7OzamRQOa",
        "outputId": "d9758bb3-c245-4c84-830e-c0caddee7357"
      },
      "execution_count": 189,
      "outputs": [
        {
          "output_type": "display_data",
          "data": {
            "text/plain": [
              "<Figure size 1500x500 with 1 Axes>"
            ],
            "image/png": "[encoded data removed]"
          },
          "metadata": {}
        }
      ]
    },
    {
      "cell_type": "code",
      "source": [
        "plt.plot(epoch_count, train_loss_val, label=\"Train loss\")\n",
        "plt.plot(epoch_count, test_loss_val, label=\"Test loss\")\n",
        "plt.title(\"Training and test loss curves\")\n",
        "plt.ylabel(\"Loss\")\n",
        "plt.xlabel(\"Epochs\")\n",
        "plt.legend();\n",
        "plt.show()"
      ],
      "metadata": {
        "colab": {
          "base_uri": "https://localhost:8080/",
          "height": 472
        },
        "id": "sBH3vqM_R8tK",
        "outputId": "cbcb28ec-f1fb-4b0f-a6f8-5bf08a2fc4c2"
      },
      "execution_count": 190,
      "outputs": [
        {
          "output_type": "display_data",
          "data": {
            "text/plain": [
              "<Figure size 640x480 with 1 Axes>"
            ],
            "image/png": "[encoded data removed]"
          },
          "metadata": {}
        }
      ]
    },
    {
      "cell_type": "code",
      "source": [],
      "metadata": {
        "id": "Qy3JOIdDWKc3"
      },
      "execution_count": null,
      "outputs": []
    }
  ]
}